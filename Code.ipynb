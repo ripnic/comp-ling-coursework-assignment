{
  "cells": [
    {
      "cell_type": "code",
      "execution_count": 45,
      "metadata": {
        "colab": {
          "base_uri": "https://localhost:8080/"
        },
        "id": "jhNWdx7l84yP",
        "outputId": "c572edcd-e0b6-43c8-9d89-6b937c2edfc4"
      },
      "outputs": [
        {
          "output_type": "stream",
          "name": "stdout",
          "text": [
            "--2025-01-16 00:36:05--  https://raw.githubusercontent.com/cbannard/lela60331_24-25/refs/heads/main/coursework/Compiled_Reviews.txt\n",
            "Resolving raw.githubusercontent.com (raw.githubusercontent.com)... 185.199.109.133, 185.199.111.133, 185.199.108.133, ...\n",
            "Connecting to raw.githubusercontent.com (raw.githubusercontent.com)|185.199.109.133|:443... connected.\n",
            "HTTP request sent, awaiting response... 200 OK\n",
            "Length: 22322605 (21M) [text/plain]\n",
            "Saving to: ‘Compiled_Reviews.txt.2’\n",
            "\n",
            "\rCompiled_Reviews.tx   0%[                    ]       0  --.-KB/s               \rCompiled_Reviews.tx 100%[===================>]  21.29M  --.-KB/s    in 0.1s    \n",
            "\n",
            "2025-01-16 00:36:05 (206 MB/s) - ‘Compiled_Reviews.txt.2’ saved [22322605/22322605]\n",
            "\n"
          ]
        }
      ],
      "source": [
        "!wget https://raw.githubusercontent.com/cbannard/lela60331_24-25/refs/heads/main/coursework/Compiled_Reviews.txt"
      ]
    },
    {
      "cell_type": "code",
      "execution_count": 46,
      "metadata": {
        "id": "w35-7BpjKfdL"
      },
      "outputs": [],
      "source": [
        "import numpy as np\n",
        "import matplotlib.pyplot as plt"
      ]
    },
    {
      "cell_type": "code",
      "execution_count": 47,
      "metadata": {
        "id": "Li-IcrXi9O8G"
      },
      "outputs": [],
      "source": [
        "reviews=[]\n",
        "sentiment_ratings=[]\n",
        "product_types=[]\n",
        "helpfulness_ratings=[]\n",
        "\n",
        "with open(\"Compiled_Reviews.txt\") as f:\n",
        "   for line in f.readlines()[1:]:\n",
        "        fields = line.rstrip().split('\\t')\n",
        "        reviews.append(fields[0])\n",
        "        sentiment_ratings.append(fields[1])\n",
        "        product_types.append(fields[2])\n",
        "        helpfulness_ratings.append(fields[3])\n"
      ]
    },
    {
      "cell_type": "code",
      "execution_count": 48,
      "metadata": {
        "id": "2Z5BbjlVJsf2"
      },
      "outputs": [],
      "source": [
        "#data preprocessing\n",
        "\n",
        "import re\n",
        "#tokenising the text, turning a list of strings into a list of lists of tokens, tokenising by punctuation n space\n",
        "tokenized_text = [re.findall(\"[^ !%&'()*,-./\\:;?@[\\]_{}#¡§«¶·»¿‘’“”\\\"\\\"]+\",txt) for txt in reviews] #for each text in review we are tokenising\n",
        "#stopwords dervied from NLTK\n",
        "stop_words = {\n",
        "    'i', 'me', 'my', 'myself', 'we', 'our', 'ours', 'ourselves', 'you', 'your', 'yours',\n",
        "    'yourself', 'yourselves', 'he', 'him', 'his', 'himself', 'she', 'her', 'hers',\n",
        "    'herself', 'it', 'its', 'itself', 'they', 'them', 'their', 'theirs', 'themselves',\n",
        "    'what', 'which', 'who', 'whom', 'this', 'that', 'these', 'those', 'am', 'is', 'are',\n",
        "    'was', 'were', 'be', 'been', 'being', 'have', 'has', 'had', 'having', 'do', 'does',\n",
        "    'did', 'doing', 'a', 'an', 'the', 'and', 'but', 'if', 'or', 'because', 'as', 'until',\n",
        "    'while', 'of', 'at', 'by', 'for', 'with', 'about', 'against', 'between', 'into',\n",
        "    'through', 'during', 'before', 'after', 'above', 'below', 'to', 'from', 'up', 'down',\n",
        "    'in', 'out', 'on', 'off', 'over', 'under', 'again', 'further', 'then', 'once', 'here',\n",
        "    'there', 'when', 'where', 'why', 'how', 'all', 'any', 'both', 'each', 'few', 'more',\n",
        "    'most', 'other', 'some', 'such', 'no', 'nor', 'not', 'only', 'own', 'same', 'so',\n",
        "    'than', 'too', 'very', 's', 't', 'can', 'will', 'just', 'don', 'should', 'now'}\n",
        "\n",
        "tokens=[]\n",
        "for s in tokenized_text:\n",
        "      tokens.extend(s)\n",
        "#removing stopwords and accounting for case distinction too\n",
        "tokens = [token for token in tokens if token.lower() not in stop_words]\n",
        "\n",
        "from collections import Counter\n",
        "counts=Counter(tokens)\n",
        "#most frequent first\n",
        "so=sorted(counts.items(), key=lambda item: item[1], reverse=True)\n",
        "so=list(zip(*so))[0]\n",
        "#5000 most frequent words\n",
        "type_list=so[0:5000]"
      ]
    },
    {
      "cell_type": "code",
      "execution_count": 49,
      "metadata": {
        "colab": {
          "base_uri": "https://localhost:8080/"
        },
        "id": "ObQaRx7tJyAY",
        "outputId": "1f8fb85a-4a4e-4c83-baad-d9448f1f4b17"
      },
      "outputs": [
        {
          "output_type": "execute_result",
          "data": {
            "text/plain": [
              "('one',\n",
              " 'like',\n",
              " 'would',\n",
              " 'get',\n",
              " 'good',\n",
              " 'great',\n",
              " 'time',\n",
              " 'use',\n",
              " 'product',\n",
              " 'really')"
            ]
          },
          "metadata": {},
          "execution_count": 49
        }
      ],
      "source": [
        "#example of top 10 words\n",
        "type_list[0:10]"
      ]
    },
    {
      "cell_type": "code",
      "execution_count": 50,
      "metadata": {
        "id": "VBDDQKnqKL2A"
      },
      "outputs": [],
      "source": [
        "#one-hot encoding\n",
        "#making an empty 36547 x 5000 matrix of zeros - we have 36547 reviews\n",
        "M = np.zeros((len(reviews), len(type_list)))  #no of rows is no of reviews and no of columns is no of words in type list\n",
        "#iterate over the reviews\n",
        "for i, rev in enumerate(reviews):\n",
        "    # Tokenise the current review:\n",
        "    tokens = re.findall(\"[^ !%&'()*,-./\\:;?@[\\]_{}#¡§«¶·»¿‘’“”\\\"\\\"]+\",rev)\n",
        "    # iterate over the words in our type list (the set of 5000 words):\n",
        "    for j,t in enumerate(type_list):\n",
        "        # if the current word j occurs in the current review i then set the matrix element at i,j to be one. Otherwise leave as zero.\n",
        "        if t in tokens:\n",
        "              M[i,j] = 1"
      ]
    },
    {
      "cell_type": "code",
      "execution_count": 51,
      "metadata": {
        "colab": {
          "base_uri": "https://localhost:8080/"
        },
        "id": "dOjQnadTKuk6",
        "outputId": "07dee0fa-4172-4b9b-dbe0-ceb29c841c59"
      },
      "outputs": [
        {
          "output_type": "execute_result",
          "data": {
            "text/plain": [
              "array([0., 0., 1., ..., 0., 0., 0.])"
            ]
          },
          "metadata": {},
          "execution_count": 51
        }
      ],
      "source": [
        "M[1000,] #this is the one hot encoding version of review 1000"
      ]
    },
    {
      "cell_type": "code",
      "execution_count": 52,
      "metadata": {
        "colab": {
          "base_uri": "https://localhost:8080/",
          "height": 53
        },
        "id": "s77qkadCLjsH",
        "outputId": "f31cdd05-1b5f-41ef-b74d-fa11704e9aaf"
      },
      "outputs": [
        {
          "output_type": "execute_result",
          "data": {
            "text/plain": [
              "'\"I\\'ve found the Omron very easy and practical to use.  It gives very good estimates of body fat percentages and BMI (body mass index) which can easily be used to illustrate a personal rate of progress for any dietary or weight training program.  For the money, it would be difficult to find something better\"'"
            ],
            "application/vnd.google.colaboratory.intrinsic+json": {
              "type": "string"
            }
          },
          "metadata": {},
          "execution_count": 52
        }
      ],
      "source": [
        "reviews[1000]"
      ]
    },
    {
      "cell_type": "code",
      "execution_count": 53,
      "metadata": {
        "colab": {
          "base_uri": "https://localhost:8080/",
          "height": 36
        },
        "id": "M7ju1JfhLlKU",
        "outputId": "7041c2e2-d81c-43c3-fa46-65ea7213ff49"
      },
      "outputs": [
        {
          "output_type": "execute_result",
          "data": {
            "text/plain": [
              "'helpful'"
            ],
            "application/vnd.google.colaboratory.intrinsic+json": {
              "type": "string"
            }
          },
          "metadata": {},
          "execution_count": 53
        }
      ],
      "source": [
        "helpfulness_ratings[1000] #we are basically trying to predict helpfulness rating from the one hot encoding above: helpful, unhelpful or neutral"
      ]
    },
    {
      "cell_type": "code",
      "execution_count": null,
      "metadata": {
        "id": "KsZfzGF3Lt-N"
      },
      "outputs": [],
      "source": [
        "#lets split our data into training 80% , development 10% , and test 10%"
      ]
    },
    {
      "cell_type": "code",
      "execution_count": 54,
      "metadata": {
        "id": "h5CteOEpUbdb"
      },
      "outputs": [],
      "source": [
        "train_ints=np.random.choice(len(reviews),int(len(reviews)*0.8),replace=False)\n",
        "remaining_ints=list(set(range(0,len(reviews))) - set(train_ints))\n",
        "test_ints=np.random.choice(len(remaining_ints),int(len(remaining_ints)*0.5),replace=False)\n",
        "dev_ints=list(set(range(0,len(remaining_ints))) - set(test_ints))"
      ]
    },
    {
      "cell_type": "code",
      "execution_count": 55,
      "metadata": {
        "id": "aCXZgfsfL4wv"
      },
      "outputs": [],
      "source": [
        "#one-hot encoded input matrices for training, development and test\n",
        "\n",
        "M_train = np.array(M[train_ints,]).T\n",
        "M_test = np.array(M[test_ints,]).T\n",
        "M_dev = np.array(M[dev_ints,]).T\n",
        "\n",
        "unique_helpfulness=list(set(helpfulness_ratings))\n",
        "unique_one_hot=np.diag(np.ones(len(unique_helpfulness)))\n",
        "\n",
        "helpfulness_train = [helpfulness_ratings[i] for i in train_ints]\n",
        "helpfulness_test = [helpfulness_ratings[i] for i in test_ints]\n",
        "helpfulness_dev = [helpfulness_ratings[i] for i in dev_ints]"
      ]
    },
    {
      "cell_type": "code",
      "execution_count": 56,
      "metadata": {
        "id": "PiI9DLE8UtLU"
      },
      "outputs": [],
      "source": [
        "#one-hot encoded target output matrices for training, development and test\n",
        "y_train=np.array([list(unique_one_hot[k]) for k in [unique_helpfulness.index(x) for x in helpfulness_train]]).T\n",
        "y_test=np.array([list(unique_one_hot[k]) for k in [unique_helpfulness.index(x) for x in helpfulness_test]]).T\n",
        "y_dev=np.array([list(unique_one_hot[k]) for k in [unique_helpfulness.index(x) for x in helpfulness_dev]]).T"
      ]
    },
    {
      "cell_type": "code",
      "execution_count": null,
      "metadata": {
        "id": "NrUt3lXkMTdk"
      },
      "outputs": [],
      "source": [
        "#now we build softmax logistic regression model"
      ]
    },
    {
      "cell_type": "code",
      "execution_count": 57,
      "metadata": {
        "id": "aqwyxCF2VkQX"
      },
      "outputs": [],
      "source": [
        "M_train=M_train.T\n",
        "M_test=M_test.T\n",
        "M_dev=M_dev.T\n",
        "y_train=y_train.T\n",
        "y_test=y_test.T\n",
        "y_dev=y_dev.T"
      ]
    },
    {
      "cell_type": "code",
      "execution_count": 58,
      "metadata": {
        "colab": {
          "base_uri": "https://localhost:8080/"
        },
        "id": "sc_3nmTiV32c",
        "outputId": "e8f6d1ad-5897-44ff-969b-a42c2a257d82"
      },
      "outputs": [
        {
          "output_type": "execute_result",
          "data": {
            "text/plain": [
              "(29238, 5000)"
            ]
          },
          "metadata": {},
          "execution_count": 58
        }
      ],
      "source": [
        "M_train.shape"
      ]
    },
    {
      "cell_type": "code",
      "execution_count": 59,
      "metadata": {
        "id": "v0zFKlMzYYOK"
      },
      "outputs": [],
      "source": [
        "M_train=M_train.T"
      ]
    },
    {
      "cell_type": "code",
      "execution_count": 60,
      "metadata": {
        "colab": {
          "base_uri": "https://localhost:8080/"
        },
        "id": "S_1jabpHYowJ",
        "outputId": "47934169-86d0-481b-f896-6626cb9bc73f"
      },
      "outputs": [
        {
          "output_type": "execute_result",
          "data": {
            "text/plain": [
              "29238"
            ]
          },
          "metadata": {},
          "execution_count": 60
        }
      ],
      "source": [
        "M_train.shape[1] #i want 29238"
      ]
    },
    {
      "cell_type": "code",
      "execution_count": 61,
      "metadata": {
        "colab": {
          "base_uri": "https://localhost:8080/"
        },
        "id": "NW7DrSE6YsRR",
        "outputId": "70557778-c600-4f36-9973-8e30f4b6a9d1"
      },
      "outputs": [
        {
          "output_type": "execute_result",
          "data": {
            "text/plain": [
              "5000"
            ]
          },
          "metadata": {},
          "execution_count": 61
        }
      ],
      "source": [
        "M_train.shape[0] #here 5000"
      ]
    },
    {
      "cell_type": "code",
      "execution_count": 62,
      "metadata": {
        "colab": {
          "base_uri": "https://localhost:8080/"
        },
        "id": "K6PZyTotYuN5",
        "outputId": "152ab286-1cd1-4379-ae30-ed7707f08ba3"
      },
      "outputs": [
        {
          "output_type": "execute_result",
          "data": {
            "text/plain": [
              "29238"
            ]
          },
          "metadata": {},
          "execution_count": 62
        }
      ],
      "source": [
        "len(y_train)"
      ]
    },
    {
      "cell_type": "code",
      "execution_count": 63,
      "metadata": {
        "colab": {
          "base_uri": "https://localhost:8080/",
          "height": 466
        },
        "id": "GsZ3XQNrVn2A",
        "outputId": "7120ef88-e3c5-4007-a476-53a2a35578e5"
      },
      "outputs": [
        {
          "output_type": "execute_result",
          "data": {
            "text/plain": [
              "Text(0, 0.5, 'loss')"
            ]
          },
          "metadata": {},
          "execution_count": 63
        },
        {
          "output_type": "display_data",
          "data": {
            "text/plain": [
              "<Figure size 640x480 with 1 Axes>"
            ],
            "image/png": "[encoded data removed]"
          },
          "metadata": {}
        }
      ],
      "source": [
        "#0.0005 and 1000 to get kind of L\n",
        "np.random.seed(10)\n",
        "n_iters = 1000\n",
        "num_features = 5000\n",
        "num_classes = 3 #3 different helpfulness ratings\n",
        "num_samples = len(y_train)\n",
        "weights = np.random.rand(num_features,num_classes)\n",
        "bias = np.zeros(num_classes)\n",
        "lr = 0.0005\n",
        "logistic_loss = []\n",
        "\n",
        "z=np.zeros((num_samples,num_classes))\n",
        "q=np.zeros((num_samples,num_classes))\n",
        "\n",
        "for i in range(n_iters):\n",
        "\n",
        "    z = M_train.T.dot(weights)+bias\n",
        "    z_sum = np.exp(z).sum(axis=1)\n",
        "    q = np.array([list(np.exp(z_i)/z_sum[i]) for i, z_i in enumerate(z)])\n",
        "\n",
        "    loss = np.mean(-np.log2((np.sum((y_train.T*q.T),axis=1))))\n",
        "    logistic_loss.append(loss)\n",
        "\n",
        "    dw = M_train.dot((q-y_train))/num_samples\n",
        "    db = np.sum(q - y_train, axis=0)/num_samples\n",
        "\n",
        "    weights = (weights - (dw*lr))\n",
        "    bias = bias - (db * lr)\n",
        "\n",
        "plt.plot(range(1,n_iters),logistic_loss[1:])\n",
        "plt.xlabel(\"number of epochs\")\n",
        "plt.ylabel(\"loss\")"
      ]
    },
    {
      "cell_type": "code",
      "source": [
        "#batch training\n",
        "k = 6\n",
        "# Create array of all indices in training data\n",
        "a=np.arange(y_train.T.shape[1])\n",
        "print(a)\n",
        "# randomly shuffle indices in place (in case of classes being unequally distributed across positions in data)\n",
        "np.random.shuffle(a)\n",
        "# Split indices into k equal batches\n",
        "batches=np.array(np.split(a, k))"
      ],
      "metadata": {
        "colab": {
          "base_uri": "https://localhost:8080/"
        },
        "id": "GW8KcyBy-Y9M",
        "outputId": "d445cc30-9dfc-4df5-e668-7db5e31fbe50"
      },
      "execution_count": 64,
      "outputs": [
        {
          "output_type": "stream",
          "name": "stdout",
          "text": [
            "[    0     1     2 ... 29235 29236 29237]\n"
          ]
        }
      ]
    },
    {
      "cell_type": "code",
      "source": [
        "#double checking\n",
        "batches.shape"
      ],
      "metadata": {
        "colab": {
          "base_uri": "https://localhost:8080/"
        },
        "id": "XeB3AnXS-4Ux",
        "outputId": "243ada02-3103-404d-997a-0c61ed4337d5"
      },
      "execution_count": 65,
      "outputs": [
        {
          "output_type": "execute_result",
          "data": {
            "text/plain": [
              "(6, 4873)"
            ]
          },
          "metadata": {},
          "execution_count": 65
        }
      ]
    },
    {
      "cell_type": "code",
      "source": [
        "#now we're doing batch training\n",
        "np.random.seed(10)\n",
        "n_iters = 1000\n",
        "num_features = 5000\n",
        "num_classes = 3 #3 different helpfulness ratings\n",
        "num_samples = len(y_train)\n",
        "weights = np.random.rand(num_features,num_classes)\n",
        "bias=np.zeros(num_classes)\n",
        "lr=0.0005\n",
        "logistic_loss=[]\n",
        "\n",
        "z=np.zeros((num_samples,num_classes))\n",
        "q=np.zeros((num_samples,num_classes))\n",
        "\n",
        "for i in range(n_iters):\n",
        "    loss=0.0\n",
        "    for j in range(len(batches)):\n",
        "      this_batch_M_train = M_train[:, batches[j]]\n",
        "      this_batch_y_train = y_train[batches[j]]\n",
        "\n",
        "      z= this_batch_M_train.T.dot(weights)+bias\n",
        "      z_sum=np.exp(z).sum(axis=1)\n",
        "      q=np.array([list(np.exp(z_i)/z_sum[i]) for i, z_i in enumerate(z)])\n",
        "      loss+=np.mean(-np.log2((np.sum((this_batch_y_train*q),axis=1))))\n",
        "\n",
        "      dw=this_batch_M_train.dot((q-this_batch_y_train))\n",
        "      weights=(weights - (dw*lr))\n",
        "      bias = bias - (db * lr)\n",
        "    logistic_loss.append(loss)\n",
        "plt.plot(range(1,n_iters),logistic_loss[1:])\n",
        "plt.xlabel(\"number of epochs\")\n",
        "plt.ylabel(\"loss\")"
      ],
      "metadata": {
        "colab": {
          "base_uri": "https://localhost:8080/",
          "height": 472
        },
        "id": "T_j4egVk-64B",
        "outputId": "4cd15705-0d40-453b-840b-1d13e3f1f42b"
      },
      "execution_count": 66,
      "outputs": [
        {
          "output_type": "execute_result",
          "data": {
            "text/plain": [
              "Text(0, 0.5, 'loss')"
            ]
          },
          "metadata": {},
          "execution_count": 66
        },
        {
          "output_type": "display_data",
          "data": {
            "text/plain": [
              "<Figure size 640x480 with 1 Axes>"
            ],
            "image/png": "[encoded data removed]"
          },
          "metadata": {}
        }
      ]
    },
    {
      "cell_type": "code",
      "execution_count": 70,
      "metadata": {
        "id": "Pg8Hg8Zm8boM"
      },
      "outputs": [],
      "source": [
        "z = M_test.dot(weights)+ bias\n",
        "z_sum=np.exp(z).sum(axis=1)\n",
        "q=np.array([list(np.exp(z_i)/z_sum[i]) for i, z_i in enumerate(z)])\n",
        "y_test_pred=np.argmax(q,axis=1)\n",
        "test_pred = [\"unhelpful\" if s == 0 else \"neutral\" if s == 1 else \"helpful\" for s in y_test_pred]"
      ]
    },
    {
      "cell_type": "code",
      "execution_count": 72,
      "metadata": {
        "colab": {
          "base_uri": "https://localhost:8080/"
        },
        "id": "e-jiCaAm3I0R",
        "outputId": "a5a9410e-cd73-4e9e-999d-3e1b365a754d"
      },
      "outputs": [
        {
          "output_type": "stream",
          "name": "stdout",
          "text": [
            "Class: helpful\n",
            "  Precision: 0.34\n",
            "  Recall: 0.1\n",
            "Class: unhelpful\n",
            "  Precision: 0.06\n",
            "  Recall: 0.53\n",
            "Class: neutral\n",
            "  Precision: 0.17\n",
            "  Recall: 0.04\n",
            "Average precision: 0.19\n",
            "Average recall: 0.22\n"
          ]
        }
      ],
      "source": [
        "#checking if the labels are right - 3 times for each class\n",
        "def check_classes(class_label):\n",
        "    true_positives = sum([int(yp == class_label and helpfulness_test[s] == class_label) for s, yp in enumerate(test_pred)])\n",
        "    false_positives = sum([int(yp == class_label and helpfulness_test[s] != class_label) for s, yp in enumerate(test_pred)])\n",
        "    false_negatives = sum([int(yp != class_label and helpfulness_test[s] == class_label) for s, yp in enumerate(test_pred)])\n",
        "    return true_positives, false_positives, false_negatives\n",
        "\n",
        "#precision and recall for each class\n",
        "classes = [\"helpful\", \"unhelpful\", \"neutral\"]\n",
        "precision = {}\n",
        "recall = {}\n",
        "\n",
        "for class_label in classes:\n",
        "    tp, fp, fn = check_classes(class_label)\n",
        "    precision[class_label] = round(tp / (tp + fp),2)\n",
        "    recall[class_label] = round(tp / (tp + fn),2)\n",
        "    print(f\"Class: {class_label}\")\n",
        "    print(f\"  Precision: {precision[class_label]}\")\n",
        "    print(f\"  Recall: {recall[class_label]}\")\n",
        "\n",
        "average_precision = round(sum(precision.values()) / len(classes),2)\n",
        "average_recall = round(sum(recall.values()) / len(classes),2)\n",
        "\n",
        "print(f\"Average precision: {average_precision}\")\n",
        "print(f\"Average recall: {average_recall}\")"
      ]
    },
    {
      "cell_type": "code",
      "source": [
        "class_counts = Counter(helpfulness_ratings)\n",
        "\n",
        "#showing count for each class\n",
        "for class_label, count in class_counts.items():\n",
        "    print(f\"Class: {class_label}, Count: {count}\")"
      ],
      "metadata": {
        "colab": {
          "base_uri": "https://localhost:8080/"
        },
        "id": "HvnV96DJwf4h",
        "outputId": "2b911c0d-d60a-45cf-9bdd-8fd644118c00"
      },
      "execution_count": 73,
      "outputs": [
        {
          "output_type": "stream",
          "name": "stdout",
          "text": [
            "Class: neutral, Count: 10321\n",
            "Class: helpful, Count: 20351\n",
            "Class: unhelpful, Count: 5876\n"
          ]
        }
      ]
    }
  ],
  "metadata": {
    "colab": {
      "provenance": []
    },
    "kernelspec": {
      "display_name": "Python 3",
      "name": "python3"
    },
    "language_info": {
      "name": "python"
    }
  },
  "nbformat": 4,
  "nbformat_minor": 0
}